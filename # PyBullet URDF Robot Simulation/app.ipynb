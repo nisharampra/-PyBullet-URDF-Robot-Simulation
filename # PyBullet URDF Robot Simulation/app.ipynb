{
 "cells": [
  {
   "cell_type": "code",
   "execution_count": null,
   "id": "ca26bbe8",
   "metadata": {},
   "outputs": [
    {
     "name": "stderr",
     "output_type": "stream",
     "text": [
      "pybullet build time: Sep  3 2024 12:55:38\n"
     ]
    },
    {
     "name": "stdout",
     "output_type": "stream",
     "text": [
      "Version = 4.1 Metal - 89.4\n",
      "Vendor = Apple\n",
      "Renderer = Apple M4\n",
      "b3Printf: Selected demo: Physics Server\n",
      "startThreads creating 1 threads.\n",
      "starting thread 0\n",
      "started thread 0 \n",
      "MotionThreadFunc thread started\n"
     ]
    }
   ],
   "source": [
    "import pybullet as p\n",
    "import time\n",
    "\n",
    "# Connect to GUI\n",
    "p.connect(p.GUI)\n",
    "\n",
    "# Create a floor\n",
    "plane_shape = p.createCollisionShape(p.GEOM_PLANE)\n",
    "floor = p.createMultiBody(plane_shape, plane_shape)\n",
    "\n",
    "# Create a box shape (1x1x1)\n",
    "box_shape = p.createCollisionShape(p.GEOM_BOX, halfExtents=[1, 1, 1])\n",
    "box = p.createMultiBody(box_shape, box_shape)\n",
    "\n",
    "# Move the box above the ground so it can fall\n",
    "p.resetBasePositionAndOrientation(box, [0, 0, 5], [0, 0, 0, 1])\n",
    "\n",
    "# Set gravity\n",
    "p.setGravity(0, 0, -10)\n",
    "\n",
    "# For macOS GUI to be interactive, use manual step simulation\n",
    "while True:\n",
    "    p.stepSimulation()\n",
    "    time.sleep(1.0 / 240)\n",
    "\n"
   ]
  },
  {
   "cell_type": "code",
   "execution_count": null,
   "id": "0dc454dc",
   "metadata": {},
   "outputs": [],
   "source": []
  },
  {
   "cell_type": "code",
   "execution_count": null,
   "id": "9c7bae3b",
   "metadata": {},
   "outputs": [],
   "source": []
  }
 ],
 "metadata": {
  "kernelspec": {
   "display_name": "pybullet-env",
   "language": "python",
   "name": "python3"
  },
  "language_info": {
   "codemirror_mode": {
    "name": "ipython",
    "version": 3
   },
   "file_extension": ".py",
   "mimetype": "text/x-python",
   "name": "python",
   "nbconvert_exporter": "python",
   "pygments_lexer": "ipython3",
   "version": "3.11.11"
  }
 },
 "nbformat": 4,
 "nbformat_minor": 5
}
